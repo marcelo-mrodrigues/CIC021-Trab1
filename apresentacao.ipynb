{
 "cells": [
  {
   "cell_type": "markdown",
   "id": "5e5c50e1",
   "metadata": {},
   "source": [
    "##                                                  **Cifra Vigenère Parte 1: Codificação e Decodificação** ##\n",
    "\n",
    "Funções"
   ]
  },
  {
   "cell_type": "code",
   "execution_count": null,
   "id": "0e715852",
   "metadata": {},
   "outputs": [],
   "source": [
    "import unidecode\n",
    "\n",
    "ALFABETO = \"ABCDEFGHIJKLMNOPQRSTUVWXYZ\"\n",
    "CARACTERES_PERMITIDOS = \" .,'\"\n",
    "\n",
    "\n",
    "def normalizar_txt(texto):\n",
    "    texto = unidecode(texto)\n",
    "    txt_processado = \"\"\n",
    "    for char in texto.upper():\n",
    "        if char in ALFABETO:\n",
    "            txt_processado += char\n",
    "\n",
    "        if char in CARACTERES_PERMITIDOS:\n",
    "            txt_processado += char\n",
    "\n",
    "    return txt_processado\n",
    "\n",
    "\n",
    "def extender_chave(chave, tamanho_texto):  # Normaliza a chave também\n",
    "    chave_normalizada = \"\"\n",
    "    for char in chave.upper():\n",
    "        if char in ALFABETO:\n",
    "            chave_normalizada += char\n",
    "\n",
    "    if not chave_normalizada:\n",
    "        return \"Chave Inválida\"\n",
    "\n",
    "    return (chave_normalizada * (tamanho_texto // len(chave_normalizada) + 1))[\n",
    "        :tamanho_texto\n",
    "    ]"
   ]
  }
 ],
 "metadata": {
  "kernelspec": {
   "display_name": ".venv",
   "language": "python",
   "name": "python3"
  },
  "language_info": {
   "name": "python",
   "version": "3.12.3"
  }
 },
 "nbformat": 4,
 "nbformat_minor": 5
}
